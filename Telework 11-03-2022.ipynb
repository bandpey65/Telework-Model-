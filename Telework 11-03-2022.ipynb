{
 "cells": [
  {
   "cell_type": "markdown",
   "id": "d11675b4",
   "metadata": {
    "id": "d11675b4"
   },
   "source": [
    "## **Importing the libraries and overview of the dataset**"
   ]
  },
  {
   "cell_type": "code",
   "execution_count": 1,
   "id": "4d978ad8",
   "metadata": {
    "id": "4d978ad8"
   },
   "outputs": [],
   "source": [
    "import pandas as pd\n",
    "import numpy as np\n",
    "import matplotlib.pyplot as plt\n",
    "import seaborn as sns\n",
    "\n",
    "# To scale the data using z-score \n",
    "from sklearn.preprocessing import StandardScaler\n",
    "\n",
    "from sklearn.model_selection import train_test_split\n",
    "\n",
    "# Algorithms to use\n",
    "from sklearn.linear_model import LogisticRegression\n",
    "\n",
    "from sklearn.svm import SVC\n",
    "\n",
    "from sklearn.tree import DecisionTreeClassifier\n",
    "\n",
    "from sklearn.ensemble import BaggingClassifier\n",
    "\n",
    "from sklearn.ensemble import RandomForestClassifier\n",
    "\n",
    "# Metrics to evaluate the model\n",
    "from sklearn import metrics\n",
    "from sklearn.metrics import confusion_matrix, classification_report, precision_recall_curve,recall_score\n",
    "from sklearn import tree\n",
    "\n",
    "\n",
    "# For tuning the model\n",
    "from sklearn.model_selection import GridSearchCV\n",
    "\n",
    "# To ignore warnings\n",
    "import warnings\n",
    "warnings.filterwarnings(\"ignore\")"
   ]
  },
  {
   "cell_type": "markdown",
   "id": "6defdba7",
   "metadata": {
    "id": "6defdba7"
   },
   "source": [
    "### **Loading the Dataset**"
   ]
  },
  {
   "cell_type": "code",
   "execution_count": 2,
   "id": "8b05f364",
   "metadata": {
    "id": "8b05f364"
   },
   "outputs": [],
   "source": [
    "# Loading the dataset\n",
    "df = pd.read_csv('replica-telework_dc-11_02_22-trips_dataset.csv')"
   ]
  },
  {
   "cell_type": "code",
   "execution_count": 3,
   "id": "da053f1b",
   "metadata": {
    "colab": {
     "base_uri": "https://localhost:8080/",
     "height": 369
    },
    "id": "da053f1b",
    "outputId": "2b5932dd-d151-4eed-8736-bda6e76f97b2"
   },
   "outputs": [
    {
     "data": {
      "text/html": [
       "<div>\n",
       "<style scoped>\n",
       "    .dataframe tbody tr th:only-of-type {\n",
       "        vertical-align: middle;\n",
       "    }\n",
       "\n",
       "    .dataframe tbody tr th {\n",
       "        vertical-align: top;\n",
       "    }\n",
       "\n",
       "    .dataframe thead th {\n",
       "        text-align: right;\n",
       "    }\n",
       "</style>\n",
       "<table border=\"1\" class=\"dataframe\">\n",
       "  <thead>\n",
       "    <tr style=\"text-align: right;\">\n",
       "      <th></th>\n",
       "      <th>trip_duration_minutes</th>\n",
       "      <th>trip_distance_miles</th>\n",
       "      <th>trip_taker_wfh</th>\n",
       "      <th>trip_taker_individual_income</th>\n",
       "      <th>trip_taker_commute_mode</th>\n",
       "      <th>trip_taker_household_size</th>\n",
       "      <th>trip_taker_household_income</th>\n",
       "    </tr>\n",
       "  </thead>\n",
       "  <tbody>\n",
       "    <tr>\n",
       "      <th>0</th>\n",
       "      <td>689</td>\n",
       "      <td>257.1</td>\n",
       "      <td>in_person</td>\n",
       "      <td>65659</td>\n",
       "      <td>private_auto</td>\n",
       "      <td>2</td>\n",
       "      <td>131318</td>\n",
       "    </tr>\n",
       "    <tr>\n",
       "      <th>1</th>\n",
       "      <td>670</td>\n",
       "      <td>249.9</td>\n",
       "      <td>in_person</td>\n",
       "      <td>31638</td>\n",
       "      <td>private_auto</td>\n",
       "      <td>5</td>\n",
       "      <td>441879</td>\n",
       "    </tr>\n",
       "    <tr>\n",
       "      <th>2</th>\n",
       "      <td>660</td>\n",
       "      <td>246.1</td>\n",
       "      <td>in_person</td>\n",
       "      <td>71685</td>\n",
       "      <td>private_auto</td>\n",
       "      <td>2</td>\n",
       "      <td>152448</td>\n",
       "    </tr>\n",
       "    <tr>\n",
       "      <th>3</th>\n",
       "      <td>648</td>\n",
       "      <td>241.9</td>\n",
       "      <td>in_person</td>\n",
       "      <td>71685</td>\n",
       "      <td>private_auto</td>\n",
       "      <td>2</td>\n",
       "      <td>152448</td>\n",
       "    </tr>\n",
       "    <tr>\n",
       "      <th>4</th>\n",
       "      <td>660</td>\n",
       "      <td>246.2</td>\n",
       "      <td>in_person</td>\n",
       "      <td>27909</td>\n",
       "      <td>carpool</td>\n",
       "      <td>12</td>\n",
       "      <td>206531</td>\n",
       "    </tr>\n",
       "  </tbody>\n",
       "</table>\n",
       "</div>"
      ],
      "text/plain": [
       "   trip_duration_minutes  trip_distance_miles trip_taker_wfh  \\\n",
       "0                    689                257.1      in_person   \n",
       "1                    670                249.9      in_person   \n",
       "2                    660                246.1      in_person   \n",
       "3                    648                241.9      in_person   \n",
       "4                    660                246.2      in_person   \n",
       "\n",
       "   trip_taker_individual_income trip_taker_commute_mode  \\\n",
       "0                         65659            private_auto   \n",
       "1                         31638            private_auto   \n",
       "2                         71685            private_auto   \n",
       "3                         71685            private_auto   \n",
       "4                         27909                 carpool   \n",
       "\n",
       "   trip_taker_household_size  trip_taker_household_income  \n",
       "0                          2                       131318  \n",
       "1                          5                       441879  \n",
       "2                          2                       152448  \n",
       "3                          2                       152448  \n",
       "4                         12                       206531  "
      ]
     },
     "execution_count": 3,
     "metadata": {},
     "output_type": "execute_result"
    }
   ],
   "source": [
    "df.head()"
   ]
  },
  {
   "cell_type": "markdown",
   "id": "4ab2a996",
   "metadata": {
    "id": "4ab2a996"
   },
   "source": [
    "### **Checking the info of the dataset**"
   ]
  },
  {
   "cell_type": "code",
   "execution_count": 4,
   "id": "478b4895",
   "metadata": {
    "colab": {
     "base_uri": "https://localhost:8080/"
    },
    "id": "478b4895",
    "outputId": "2cdfffdc-06c2-425a-d5c7-0539587f5733"
   },
   "outputs": [
    {
     "name": "stdout",
     "output_type": "stream",
     "text": [
      "<class 'pandas.core.frame.DataFrame'>\n",
      "RangeIndex: 10628212 entries, 0 to 10628211\n",
      "Data columns (total 7 columns):\n",
      " #   Column                        Dtype  \n",
      "---  ------                        -----  \n",
      " 0   trip_duration_minutes         int64  \n",
      " 1   trip_distance_miles           float64\n",
      " 2   trip_taker_wfh                object \n",
      " 3   trip_taker_individual_income  int64  \n",
      " 4   trip_taker_commute_mode       object \n",
      " 5   trip_taker_household_size     int64  \n",
      " 6   trip_taker_household_income   int64  \n",
      "dtypes: float64(1), int64(4), object(2)\n",
      "memory usage: 567.6+ MB\n"
     ]
    }
   ],
   "source": [
    "# Let us see the info of the data\n",
    "df.info()"
   ]
  },
  {
   "cell_type": "markdown",
   "id": "04cdca70",
   "metadata": {
    "id": "04cdca70"
   },
   "source": [
    "**Let's check the unique values in each column** "
   ]
  },
  {
   "cell_type": "code",
   "execution_count": 5,
   "id": "2cae2ec6",
   "metadata": {
    "colab": {
     "base_uri": "https://localhost:8080/"
    },
    "id": "2cae2ec6",
    "outputId": "efe5538b-ef8c-4faf-b1f2-b95a77a3d91b"
   },
   "outputs": [
    {
     "data": {
      "text/plain": [
       "trip_duration_minutes            1439\n",
       "trip_distance_miles              9663\n",
       "trip_taker_wfh                      2\n",
       "trip_taker_individual_income    16635\n",
       "trip_taker_commute_mode             7\n",
       "trip_taker_household_size          17\n",
       "trip_taker_household_income     23374\n",
       "dtype: int64"
      ]
     },
     "execution_count": 5,
     "metadata": {},
     "output_type": "execute_result"
    }
   ],
   "source": [
    "# Checking unique values in each column\n",
    "df.nunique()"
   ]
  },
  {
   "cell_type": "code",
   "execution_count": 6,
   "id": "586f889f",
   "metadata": {
    "id": "586f889f"
   },
   "outputs": [],
   "source": [
    "# Dropping the columns \n",
    "df=df.drop(['trip_taker_commute_mode','trip_taker_household_income'],axis=1)"
   ]
  },
  {
   "cell_type": "markdown",
   "id": "2ca9fb0e",
   "metadata": {
    "id": "2ca9fb0e"
   },
   "source": [
    "**Let's check the relationship between attrition and Numerical variables**"
   ]
  },
  {
   "cell_type": "markdown",
   "id": "92e0db89",
   "metadata": {
    "id": "92e0db89"
   },
   "source": [
    "**Now we have explored our data. Let's build the model**"
   ]
  },
  {
   "cell_type": "markdown",
   "id": "aa131f2f",
   "metadata": {
    "id": "aa131f2f"
   },
   "source": [
    "## **Model Building - Approach**\n",
    "\n",
    "1. Data preparation.\n",
    "2. Partition the data into a train and test set.\n",
    "3. Build a model on the train data.\n",
    "4. Tune the model if required.\n",
    "5. Test the data on the test set."
   ]
  },
  {
   "cell_type": "markdown",
   "id": "000e4657",
   "metadata": {
    "id": "000e4657"
   },
   "source": [
    "**Separating the independent variables (X) and the dependent variable (Y)**"
   ]
  },
  {
   "cell_type": "code",
   "execution_count": 7,
   "id": "b751679c",
   "metadata": {
    "id": "b751679c"
   },
   "outputs": [],
   "source": [
    "# Separating target variable and other variables\n",
    "\n",
    "Y= df.trip_taker_wfh\n",
    "X= df.drop(columns = ['trip_taker_wfh'])"
   ]
  },
  {
   "cell_type": "code",
   "execution_count": 8,
   "id": "2fb41b77",
   "metadata": {},
   "outputs": [
    {
     "data": {
      "text/plain": [
       "in_person    0.741005\n",
       "remote       0.258995\n",
       "Name: trip_taker_wfh, dtype: float64"
      ]
     },
     "execution_count": 8,
     "metadata": {},
     "output_type": "execute_result"
    }
   ],
   "source": [
    "# check the distribution\n",
    "Y.value_counts()/df.shape[0]"
   ]
  },
  {
   "cell_type": "markdown",
   "id": "0t_l7akKoPQO",
   "metadata": {
    "id": "0t_l7akKoPQO"
   },
   "source": [
    "**Splitting the data into 70% train and 30% test set**\n",
    "\n",
    "Some classification problems can exhibit a large imbalance in the distribution of the target classes: for instance there could be several times more negative samples than positive samples. In such cases it is recommended to use the **stratified sampling** technique to ensure that relative class frequencies are approximately preserved in each train and validation fold."
   ]
  },
  {
   "cell_type": "code",
   "execution_count": 9,
   "id": "58524670",
   "metadata": {
    "id": "58524670"
   },
   "outputs": [],
   "source": [
    "# Splitting the data\n",
    "X_train, X_test, y_train, y_test = train_test_split(X, Y, test_size = 0.3, random_state = 1, stratify = Y)"
   ]
  },
  {
   "cell_type": "code",
   "execution_count": 10,
   "id": "5f6bdde5",
   "metadata": {
    "id": "5f6bdde5"
   },
   "outputs": [],
   "source": [
    "# Scaling the data\n",
    "sc=StandardScaler()\n",
    "\n",
    "# Fit_transform on train data\n",
    "X_train_scaled=sc.fit_transform(X_train)\n",
    "X_train_scaled=pd.DataFrame(X_train_scaled, columns=X.columns)\n",
    "\n",
    "# Transform on test data\n",
    "X_test_scaled=sc.transform(X_test)\n",
    "X_test_scaled=pd.DataFrame(X_test_scaled, columns=X.columns)"
   ]
  },
  {
   "cell_type": "markdown",
   "id": "51227176",
   "metadata": {
    "id": "51227176"
   },
   "source": [
    "**Also, let's create a function to calculate and print the classification report and confusion matrix so that we don't have to rewrite the same code repeatedly for each model.**"
   ]
  },
  {
   "cell_type": "code",
   "execution_count": 11,
   "id": "c956309b",
   "metadata": {
    "id": "c956309b"
   },
   "outputs": [],
   "source": [
    "# Creating metric function \n",
    "def metrics_score(actual, predicted):\n",
    "    print(classification_report(actual, predicted))\n",
    "\n",
    "    cm = confusion_matrix(actual, predicted)\n",
    "    plt.figure(figsize=(8,5))\n",
    "    \n",
    "    sns.heatmap(cm, annot=True,  fmt='.2f', xticklabels=['Not remote', 'remote'], yticklabels=['Not remote', 'remote'])\n",
    "    plt.ylabel('Actual')\n",
    "    plt.xlabel('Predicted')\n",
    "    plt.show()"
   ]
  },
  {
   "cell_type": "markdown",
   "id": "83b26655",
   "metadata": {
    "id": "83b26655"
   },
   "source": [
    "## **Building the model**\n",
    "\n",
    "We will be building 4 different models:\n",
    "\n",
    "- **Logistic Regression**\n",
    "- **Support Vector Machine(SVM)**\n",
    "- **Decision Tree**\n",
    "- **Random Forest**\n"
   ]
  },
  {
   "cell_type": "markdown",
   "id": "e1e642c2",
   "metadata": {
    "id": "e1e642c2"
   },
   "source": [
    "### **Logistic Regression Model**"
   ]
  },
  {
   "cell_type": "markdown",
   "id": "f57a2c9f",
   "metadata": {
    "id": "f57a2c9f"
   },
   "source": [
    "- Logistic Regression is a supervised learning algorithm which is used for **binary classification problems** i.e. where the dependent variable is categorical and has only two possible values. In logistic regression, we use the sigmoid function to calculate the probability of an event y, given some features x as:\n",
    "\n",
    "                                          P(y)=1/exp(1 + exp(-x))"
   ]
  },
  {
   "cell_type": "code",
   "execution_count": 12,
   "id": "ec849e5a",
   "metadata": {},
   "outputs": [
    {
     "data": {
      "text/plain": [
       "LogisticRegression(class_weight='balanced')"
      ]
     },
     "execution_count": 12,
     "metadata": {},
     "output_type": "execute_result"
    }
   ],
   "source": [
    "log_reg = LogisticRegression(class_weight = 'balanced')\n",
    "log_reg.fit(X_train_scaled,y_train)"
   ]
  },
  {
   "cell_type": "code",
   "execution_count": 13,
   "id": "c23c8aa5",
   "metadata": {},
   "outputs": [
    {
     "name": "stdout",
     "output_type": "stream",
     "text": [
      "              precision    recall  f1-score   support\n",
      "\n",
      "   in_person       0.78      0.64      0.71   5512890\n",
      "      remote       0.32      0.49      0.39   1926858\n",
      "\n",
      "    accuracy                           0.60   7439748\n",
      "   macro avg       0.55      0.57      0.55   7439748\n",
      "weighted avg       0.66      0.60      0.62   7439748\n",
      "\n"
     ]
    },
    {
     "data": {
      "image/png": "[encoded data removed]",
      "text/plain": [
       "<Figure size 576x360 with 2 Axes>"
      ]
     },
     "metadata": {
      "needs_background": "light"
     },
     "output_type": "display_data"
    }
   ],
   "source": [
    "y_pred_train = log_reg.predict(X_train_scaled)\n",
    "\n",
    "metrics_score(y_train, y_pred_train)"
   ]
  },
  {
   "cell_type": "code",
   "execution_count": 14,
   "id": "639697ee",
   "metadata": {},
   "outputs": [
    {
     "name": "stdout",
     "output_type": "stream",
     "text": [
      "              precision    recall  f1-score   support\n",
      "\n",
      "   in_person       0.78      0.64      0.71   2362668\n",
      "      remote       0.32      0.49      0.39    825796\n",
      "\n",
      "    accuracy                           0.60   3188464\n",
      "   macro avg       0.55      0.57      0.55   3188464\n",
      "weighted avg       0.66      0.60      0.62   3188464\n",
      "\n"
     ]
    },
    {
     "data": {
      "image/png": "[encoded data removed]",
      "text/plain": [
       "<Figure size 576x360 with 2 Axes>"
      ]
     },
     "metadata": {
      "needs_background": "light"
     },
     "output_type": "display_data"
    }
   ],
   "source": [
    "# Checking the performance on the test dataset\n",
    "y_pred_test = log_reg.predict(X_test_scaled)\n",
    "\n",
    "metrics_score(y_test, y_pred_test)"
   ]
  },
  {
   "cell_type": "code",
   "execution_count": 15,
   "id": "e0efa50d",
   "metadata": {},
   "outputs": [
    {
     "data": {
      "text/plain": [
       "array([[-0.03895089,  0.07090875,  0.22760517, -0.09335642]])"
      ]
     },
     "execution_count": 15,
     "metadata": {},
     "output_type": "execute_result"
    }
   ],
   "source": [
    "# Printing the coefficients of logistic regression\n",
    "\n",
    "log_reg.coef_\n"
   ]
  },
  {
   "cell_type": "code",
   "execution_count": 20,
   "id": "654af7bb",
   "metadata": {},
   "outputs": [
    {
     "data": {
      "text/html": [
       "<div>\n",
       "<style scoped>\n",
       "    .dataframe tbody tr th:only-of-type {\n",
       "        vertical-align: middle;\n",
       "    }\n",
       "\n",
       "    .dataframe tbody tr th {\n",
       "        vertical-align: top;\n",
       "    }\n",
       "\n",
       "    .dataframe thead th {\n",
       "        text-align: right;\n",
       "    }\n",
       "</style>\n",
       "<table border=\"1\" class=\"dataframe\">\n",
       "  <thead>\n",
       "    <tr style=\"text-align: right;\">\n",
       "      <th></th>\n",
       "      <th>0</th>\n",
       "    </tr>\n",
       "  </thead>\n",
       "  <tbody>\n",
       "    <tr>\n",
       "      <th>trip_taker_individual_income</th>\n",
       "      <td>0.227605</td>\n",
       "    </tr>\n",
       "    <tr>\n",
       "      <th>trip_distance_miles</th>\n",
       "      <td>0.070909</td>\n",
       "    </tr>\n",
       "    <tr>\n",
       "      <th>trip_duration_minutes</th>\n",
       "      <td>-0.038951</td>\n",
       "    </tr>\n",
       "    <tr>\n",
       "      <th>trip_taker_household_size</th>\n",
       "      <td>-0.093356</td>\n",
       "    </tr>\n",
       "  </tbody>\n",
       "</table>\n",
       "</div>"
      ],
      "text/plain": [
       "                                     0\n",
       "trip_taker_individual_income  0.227605\n",
       "trip_distance_miles           0.070909\n",
       "trip_duration_minutes        -0.038951\n",
       "trip_taker_household_size    -0.093356"
      ]
     },
     "execution_count": 20,
     "metadata": {},
     "output_type": "execute_result"
    }
   ],
   "source": [
    "# Printing the coefficients of logistic regression\n",
    "cols=X.columns\n",
    "\n",
    "coef_lg=log_reg.coef_\n",
    "\n",
    "pd.DataFrame(coef_lg,columns=cols).T.sort_values(by = 0,ascending = False)"
   ]
  },
  {
   "cell_type": "code",
   "execution_count": 21,
   "id": "3eee1206",
   "metadata": {},
   "outputs": [
    {
     "data": {
      "text/plain": [
       "array(['in_person', 'remote'], dtype=object)"
      ]
     },
     "execution_count": 21,
     "metadata": {},
     "output_type": "execute_result"
    }
   ],
   "source": [
    "log_reg.classes_"
   ]
  },
  {
   "cell_type": "code",
   "execution_count": 22,
   "id": "dee35316",
   "metadata": {},
   "outputs": [
    {
     "data": {
      "text/plain": [
       "'balanced'"
      ]
     },
     "execution_count": 22,
     "metadata": {},
     "output_type": "execute_result"
    }
   ],
   "source": [
    "log_reg.class_weight"
   ]
  },
  {
   "cell_type": "code",
   "execution_count": 25,
   "id": "d17e0dc7",
   "metadata": {},
   "outputs": [
    {
     "data": {
      "text/plain": [
       "array([-0.01242646])"
      ]
     },
     "execution_count": 25,
     "metadata": {},
     "output_type": "execute_result"
    }
   ],
   "source": [
    "log_reg.intercept_"
   ]
  },
  {
   "cell_type": "code",
   "execution_count": 30,
   "id": "11428c84",
   "metadata": {},
   "outputs": [
    {
     "ename": "ValueError",
     "evalue": "y_true takes value in {'in_person', 'remote'} and pos_label is not specified: either make y_true take value in {0, 1} or {-1, 1} or pass pos_label explicitly.",
     "output_type": "error",
     "traceback": [
      "\u001b[0;31m---------------------------------------------------------------------------\u001b[0m",
      "\u001b[0;31mValueError\u001b[0m                                Traceback (most recent call last)",
      "Input \u001b[0;32mIn [30]\u001b[0m, in \u001b[0;36m<cell line: 4>\u001b[0;34m()\u001b[0m\n\u001b[1;32m      1\u001b[0m \u001b[38;5;66;03m# Predict_proba gives the probability of each observation belonging to each class\u001b[39;00m\n\u001b[1;32m      2\u001b[0m y_scores_log_reg\u001b[38;5;241m=\u001b[39mlog_reg\u001b[38;5;241m.\u001b[39mpredict_proba(X_train_scaled)\n\u001b[0;32m----> 4\u001b[0m precisions_log_reg, recalls_log_reg, thresholds_log_reg \u001b[38;5;241m=\u001b[39m \u001b[43mprecision_recall_curve\u001b[49m\u001b[43m(\u001b[49m\u001b[43my_train\u001b[49m\u001b[43m,\u001b[49m\u001b[43m \u001b[49m\u001b[43my_scores_log_reg\u001b[49m\u001b[43m[\u001b[49m\u001b[43m:\u001b[49m\u001b[43m,\u001b[49m\u001b[38;5;241;43m1\u001b[39;49m\u001b[43m]\u001b[49m\u001b[43m)\u001b[49m\n\u001b[1;32m      6\u001b[0m \u001b[38;5;66;03m# Plot values of precisions, recalls, and thresholds\u001b[39;00m\n\u001b[1;32m      7\u001b[0m plt\u001b[38;5;241m.\u001b[39mfigure(figsize\u001b[38;5;241m=\u001b[39m(\u001b[38;5;241m10\u001b[39m,\u001b[38;5;241m7\u001b[39m))\n",
      "File \u001b[0;32m~/opt/anaconda3/lib/python3.9/site-packages/sklearn/metrics/_ranking.py:858\u001b[0m, in \u001b[0;36mprecision_recall_curve\u001b[0;34m(y_true, probas_pred, pos_label, sample_weight)\u001b[0m\n\u001b[1;32m    779\u001b[0m \u001b[38;5;28;01mdef\u001b[39;00m \u001b[38;5;21mprecision_recall_curve\u001b[39m(y_true, probas_pred, \u001b[38;5;241m*\u001b[39m, pos_label\u001b[38;5;241m=\u001b[39m\u001b[38;5;28;01mNone\u001b[39;00m, sample_weight\u001b[38;5;241m=\u001b[39m\u001b[38;5;28;01mNone\u001b[39;00m):\n\u001b[1;32m    780\u001b[0m     \u001b[38;5;124;03m\"\"\"Compute precision-recall pairs for different probability thresholds.\u001b[39;00m\n\u001b[1;32m    781\u001b[0m \n\u001b[1;32m    782\u001b[0m \u001b[38;5;124;03m    Note: this implementation is restricted to the binary classification task.\u001b[39;00m\n\u001b[0;32m   (...)\u001b[0m\n\u001b[1;32m    856\u001b[0m \n\u001b[1;32m    857\u001b[0m \u001b[38;5;124;03m    \"\"\"\u001b[39;00m\n\u001b[0;32m--> 858\u001b[0m     fps, tps, thresholds \u001b[38;5;241m=\u001b[39m \u001b[43m_binary_clf_curve\u001b[49m\u001b[43m(\u001b[49m\n\u001b[1;32m    859\u001b[0m \u001b[43m        \u001b[49m\u001b[43my_true\u001b[49m\u001b[43m,\u001b[49m\u001b[43m \u001b[49m\u001b[43mprobas_pred\u001b[49m\u001b[43m,\u001b[49m\u001b[43m \u001b[49m\u001b[43mpos_label\u001b[49m\u001b[38;5;241;43m=\u001b[39;49m\u001b[43mpos_label\u001b[49m\u001b[43m,\u001b[49m\u001b[43m \u001b[49m\u001b[43msample_weight\u001b[49m\u001b[38;5;241;43m=\u001b[39;49m\u001b[43msample_weight\u001b[49m\n\u001b[1;32m    860\u001b[0m \u001b[43m    \u001b[49m\u001b[43m)\u001b[49m\n\u001b[1;32m    862\u001b[0m     precision \u001b[38;5;241m=\u001b[39m tps \u001b[38;5;241m/\u001b[39m (tps \u001b[38;5;241m+\u001b[39m fps)\n\u001b[1;32m    863\u001b[0m     precision[np\u001b[38;5;241m.\u001b[39misnan(precision)] \u001b[38;5;241m=\u001b[39m \u001b[38;5;241m0\u001b[39m\n",
      "File \u001b[0;32m~/opt/anaconda3/lib/python3.9/site-packages/sklearn/metrics/_ranking.py:748\u001b[0m, in \u001b[0;36m_binary_clf_curve\u001b[0;34m(y_true, y_score, pos_label, sample_weight)\u001b[0m\n\u001b[1;32m    745\u001b[0m     y_score \u001b[38;5;241m=\u001b[39m y_score[nonzero_weight_mask]\n\u001b[1;32m    746\u001b[0m     sample_weight \u001b[38;5;241m=\u001b[39m sample_weight[nonzero_weight_mask]\n\u001b[0;32m--> 748\u001b[0m pos_label \u001b[38;5;241m=\u001b[39m \u001b[43m_check_pos_label_consistency\u001b[49m\u001b[43m(\u001b[49m\u001b[43mpos_label\u001b[49m\u001b[43m,\u001b[49m\u001b[43m \u001b[49m\u001b[43my_true\u001b[49m\u001b[43m)\u001b[49m\n\u001b[1;32m    750\u001b[0m \u001b[38;5;66;03m# make y_true a boolean vector\u001b[39;00m\n\u001b[1;32m    751\u001b[0m y_true \u001b[38;5;241m=\u001b[39m y_true \u001b[38;5;241m==\u001b[39m pos_label\n",
      "File \u001b[0;32m~/opt/anaconda3/lib/python3.9/site-packages/sklearn/metrics/_base.py:243\u001b[0m, in \u001b[0;36m_check_pos_label_consistency\u001b[0;34m(pos_label, y_true)\u001b[0m\n\u001b[1;32m    232\u001b[0m \u001b[38;5;28;01mif\u001b[39;00m pos_label \u001b[38;5;129;01mis\u001b[39;00m \u001b[38;5;28;01mNone\u001b[39;00m \u001b[38;5;129;01mand\u001b[39;00m (\n\u001b[1;32m    233\u001b[0m     classes\u001b[38;5;241m.\u001b[39mdtype\u001b[38;5;241m.\u001b[39mkind \u001b[38;5;129;01min\u001b[39;00m \u001b[38;5;124m\"\u001b[39m\u001b[38;5;124mOUS\u001b[39m\u001b[38;5;124m\"\u001b[39m\n\u001b[1;32m    234\u001b[0m     \u001b[38;5;129;01mor\u001b[39;00m \u001b[38;5;129;01mnot\u001b[39;00m (\n\u001b[0;32m   (...)\u001b[0m\n\u001b[1;32m    240\u001b[0m     )\n\u001b[1;32m    241\u001b[0m ):\n\u001b[1;32m    242\u001b[0m     classes_repr \u001b[38;5;241m=\u001b[39m \u001b[38;5;124m\"\u001b[39m\u001b[38;5;124m, \u001b[39m\u001b[38;5;124m\"\u001b[39m\u001b[38;5;241m.\u001b[39mjoin(\u001b[38;5;28mrepr\u001b[39m(c) \u001b[38;5;28;01mfor\u001b[39;00m c \u001b[38;5;129;01min\u001b[39;00m classes)\n\u001b[0;32m--> 243\u001b[0m     \u001b[38;5;28;01mraise\u001b[39;00m \u001b[38;5;167;01mValueError\u001b[39;00m(\n\u001b[1;32m    244\u001b[0m         \u001b[38;5;124mf\u001b[39m\u001b[38;5;124m\"\u001b[39m\u001b[38;5;124my_true takes value in \u001b[39m\u001b[38;5;130;01m{{\u001b[39;00m\u001b[38;5;132;01m{\u001b[39;00mclasses_repr\u001b[38;5;132;01m}\u001b[39;00m\u001b[38;5;130;01m}}\u001b[39;00m\u001b[38;5;124m and pos_label is not \u001b[39m\u001b[38;5;124m\"\u001b[39m\n\u001b[1;32m    245\u001b[0m         \u001b[38;5;124m\"\u001b[39m\u001b[38;5;124mspecified: either make y_true take value in \u001b[39m\u001b[38;5;124m{\u001b[39m\u001b[38;5;124m0, 1} or \u001b[39m\u001b[38;5;124m\"\u001b[39m\n\u001b[1;32m    246\u001b[0m         \u001b[38;5;124m\"\u001b[39m\u001b[38;5;124m{\u001b[39m\u001b[38;5;124m-1, 1} or pass pos_label explicitly.\u001b[39m\u001b[38;5;124m\"\u001b[39m\n\u001b[1;32m    247\u001b[0m     )\n\u001b[1;32m    248\u001b[0m \u001b[38;5;28;01melif\u001b[39;00m pos_label \u001b[38;5;129;01mis\u001b[39;00m \u001b[38;5;28;01mNone\u001b[39;00m:\n\u001b[1;32m    249\u001b[0m     pos_label \u001b[38;5;241m=\u001b[39m \u001b[38;5;241m1\u001b[39m\n",
      "\u001b[0;31mValueError\u001b[0m: y_true takes value in {'in_person', 'remote'} and pos_label is not specified: either make y_true take value in {0, 1} or {-1, 1} or pass pos_label explicitly."
     ]
    }
   ],
   "source": [
    "# Predict_proba gives the probability of each observation belonging to each class\n",
    "y_scores_log_reg=log_reg.predict_proba(X_train_scaled)\n",
    "\n",
    "precisions_log_reg, recalls_log_reg, thresholds_log_reg = precision_recall_curve(y_train, y_scores_log_reg[:,1])\n",
    "\n",
    "# Plot values of precisions, recalls, and thresholds\n",
    "plt.figure(figsize=(10,7))\n",
    "plt.plot(thresholds_log_reg, precisions_log_reg[:-1], 'b--', label='precision')\n",
    "plt.plot(thresholds_log_reg, recalls_log_reg[:-1], 'g--', label = 'recall')\n",
    "plt.xlabel('Threshold')\n",
    "plt.legend(loc='upper left')\n",
    "plt.ylim([0,1])\n",
    "plt.show()"
   ]
  },
  {
   "cell_type": "code",
   "execution_count": 16,
   "id": "9447fbc2",
   "metadata": {},
   "outputs": [],
   "source": [
    "#Another Try "
   ]
  },
  {
   "cell_type": "code",
   "execution_count": 17,
   "id": "7c70fe69",
   "metadata": {},
   "outputs": [],
   "source": [
    "from sklearn.datasets import load_iris\n",
    "from sklearn.linear_model import LogisticRegressionCV\n",
    "clf = LogisticRegressionCV(cv=5, random_state=0).fit(X_train_scaled,y_train)\n"
   ]
  },
  {
   "cell_type": "code",
   "execution_count": 18,
   "id": "61a8080e",
   "metadata": {},
   "outputs": [
    {
     "name": "stdout",
     "output_type": "stream",
     "text": [
      "              precision    recall  f1-score   support\n",
      "\n",
      "   in_person       0.74      0.99      0.85   5512890\n",
      "      remote       0.32      0.01      0.02   1926858\n",
      "\n",
      "    accuracy                           0.74   7439748\n",
      "   macro avg       0.53      0.50      0.43   7439748\n",
      "weighted avg       0.63      0.74      0.63   7439748\n",
      "\n"
     ]
    },
    {
     "data": {
      "image/png": "[encoded data removed]",
      "text/plain": [
       "<Figure size 576x360 with 2 Axes>"
      ]
     },
     "metadata": {
      "needs_background": "light"
     },
     "output_type": "display_data"
    }
   ],
   "source": [
    "y_pred_train = clf.predict(X_train_scaled)\n",
    "\n",
    "metrics_score(y_train, y_pred_train)"
   ]
  },
  {
   "cell_type": "code",
   "execution_count": 19,
   "id": "6531bbcc",
   "metadata": {},
   "outputs": [
    {
     "data": {
      "text/plain": [
       "array([[-0.03498848,  0.06309624,  0.19600121, -0.09346962]])"
      ]
     },
     "execution_count": 19,
     "metadata": {},
     "output_type": "execute_result"
    }
   ],
   "source": [
    "clf.coef_\n"
   ]
  },
  {
   "cell_type": "code",
   "execution_count": null,
   "id": "80298b9c",
   "metadata": {},
   "outputs": [],
   "source": []
  },
  {
   "cell_type": "code",
   "execution_count": null,
   "id": "78ad89b1",
   "metadata": {},
   "outputs": [],
   "source": []
  }
 ],
 "metadata": {
  "colab": {
   "collapsed_sections": [],
   "name": "Case_Study_Employee_Attrition.ipynb",
   "provenance": []
  },
  "kernelspec": {
   "display_name": "Python 3 (ipykernel)",
   "language": "python",
   "name": "python3"
  },
  "language_info": {
   "codemirror_mode": {
    "name": "ipython",
    "version": 3
   },
   "file_extension": ".py",
   "mimetype": "text/x-python",
   "name": "python",
   "nbconvert_exporter": "python",
   "pygments_lexer": "ipython3",
   "version": "3.9.12"
  }
 },
 "nbformat": 4,
 "nbformat_minor": 5
}
